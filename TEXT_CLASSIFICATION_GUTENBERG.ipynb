{
  "cells": [
    {
      "cell_type": "code",
      "execution_count": null,
      "id": "2f2efb54",
      "metadata": {
        "id": "2f2efb54",
        "outputId": "7332d4b8-907c-4fde-836d-1ea7da3e2881"
      },
      "outputs": [
        {
          "name": "stdout",
          "output_type": "stream",
          "text": [
            "    label                                          partition\n",
            "0       a  [are, legally, required, to, prepare, your, pe...\n",
            "1       a  [_, SCENE, VI, The, same, Before, the, Castle,...\n",
            "2       a  [worthy, gentleman, SOLDIER, As, whence, the, ...\n",
            "3       a  [my, lord, MACBETH, I, ll, call, upon, you, st...\n",
            "4       a  [MACBETH, We, hear, our, bloody, cousins, are,...\n",
            "..    ...                                                ...\n",
            "195     e  [surely, Dr, Stockmann, Aha, Calls, out, Come,...\n",
            "196     e  [only, then, that, the, majority, recognises, ...\n",
            "197     e  [like, a, flock, of, sheep, Captain, Horster, ...\n",
            "198     e  [bag, of, tricks, are, probably, rampant, ther...\n",
            "199     e  [Dr, Stockmann, Hovstad, It, is, no, good, mak...\n",
            "\n",
            "[1000 rows x 2 columns]\n"
          ]
        }
      ],
      "source": [
        "#importing all necessary libraries\n",
        "import numpy as np\n",
        "import matplotlib.pyplot as plt\n",
        "import warnings\n",
        "import seaborn as sns\n",
        "import nltk\n",
        "import string\n",
        "import math\n",
        "import re\n",
        "%matplotlib inline\n",
        "warnings.filterwarnings(\"ignore\")\n",
        "import re\n",
        "import random\n",
        "import pandas as pd\n",
        "import urllib.request\n",
        "import textwrap\n",
        "from nltk.corpus import stopwords\n",
        "\n",
        "# Creating the Function with 2 parameters\n",
        "def partition(bi, la):\n",
        "    url = f\"http://www.gutenberg.org/files/{bi}/{bi}-0.txt\" # Downloading the book from gutenberg website\n",
        "    response = urllib.request.urlopen(url)\n",
        "    raw_text = response.read().decode('utf-8')\n",
        "    #cleaned_text = re.sub(r'\\b\\w*\\d+\\w*\\b|\\w*_\\w*|(?<=\\w)\\'(?=\\w)', '', raw_text)\n",
        "    cleaned_text = re.sub(r'\\r\\n?', '\\n', raw_text).strip()# Cleaning the text\n",
        "    wo = re.findall(r'\\w+', cleaned_text)# Splitting to list of words\n",
        "    random.seed(42)\n",
        "    starting_indices = random.sample(range(0, len(wo) - 100), 200)# Selecting 200 random starting indices for partitions\n",
        "    partitions = []#creating empty list for partitions\n",
        "    for i in starting_indices: #iterating through the starting indices\n",
        "        partition = wo[i:i+100]\n",
        "        partitions.append(partition)#appending each partition to the partitions list\n",
        "    df = pd.DataFrame({'label': la, 'partition': partitions})# Creating a DF to store all the partitions\n",
        "    return df #the dataframe is returned\n",
        "bi_list = [1533,1754,1342,345,2446]# List of book ids on the website\n",
        "la_list = ['a', 'b', 'c','d','e']\n",
        "df_list = [] #empty lsit\n",
        "for bi, la in zip(bi_list, la_list):\n",
        "    df_list.append(partition(bi, la)) #function is being called inside and the values are appended\n",
        "df = pd.concat(df_list)# Concatenating the DataFrames and exporting to CSV format\n",
        "print(df)\n",
        "df.to_csv('finaloutput.csv', index=False)"
      ]
    },
    {
      "cell_type": "code",
      "execution_count": null,
      "id": "7a64edc8",
      "metadata": {
        "id": "7a64edc8",
        "outputId": "e58b6ddd-ab42-4446-b8bb-c1c08b06d250"
      },
      "outputs": [
        {
          "data": {
            "text/html": [
              "<div>\n",
              "<style scoped>\n",
              "    .dataframe tbody tr th:only-of-type {\n",
              "        vertical-align: middle;\n",
              "    }\n",
              "\n",
              "    .dataframe tbody tr th {\n",
              "        vertical-align: top;\n",
              "    }\n",
              "\n",
              "    .dataframe thead th {\n",
              "        text-align: right;\n",
              "    }\n",
              "</style>\n",
              "<table border=\"1\" class=\"dataframe\">\n",
              "  <thead>\n",
              "    <tr style=\"text-align: right;\">\n",
              "      <th></th>\n",
              "      <th>label</th>\n",
              "      <th>partition</th>\n",
              "    </tr>\n",
              "  </thead>\n",
              "  <tbody>\n",
              "    <tr>\n",
              "      <th>0</th>\n",
              "      <td>a</td>\n",
              "      <td>[are, legally, required, to, prepare, your, pe...</td>\n",
              "    </tr>\n",
              "    <tr>\n",
              "      <th>1</th>\n",
              "      <td>a</td>\n",
              "      <td>[_, SCENE, VI, The, same, Before, the, Castle,...</td>\n",
              "    </tr>\n",
              "    <tr>\n",
              "      <th>2</th>\n",
              "      <td>a</td>\n",
              "      <td>[worthy, gentleman, SOLDIER, As, whence, the, ...</td>\n",
              "    </tr>\n",
              "    <tr>\n",
              "      <th>3</th>\n",
              "      <td>a</td>\n",
              "      <td>[my, lord, MACBETH, I, ll, call, upon, you, st...</td>\n",
              "    </tr>\n",
              "    <tr>\n",
              "      <th>4</th>\n",
              "      <td>a</td>\n",
              "      <td>[MACBETH, We, hear, our, bloody, cousins, are,...</td>\n",
              "    </tr>\n",
              "  </tbody>\n",
              "</table>\n",
              "</div>"
            ],
            "text/plain": [
              "  label                                          partition\n",
              "0     a  [are, legally, required, to, prepare, your, pe...\n",
              "1     a  [_, SCENE, VI, The, same, Before, the, Castle,...\n",
              "2     a  [worthy, gentleman, SOLDIER, As, whence, the, ...\n",
              "3     a  [my, lord, MACBETH, I, ll, call, upon, you, st...\n",
              "4     a  [MACBETH, We, hear, our, bloody, cousins, are,..."
            ]
          },
          "execution_count": 1104,
          "metadata": {},
          "output_type": "execute_result"
        }
      ],
      "source": [
        "df.head()"
      ]
    },
    {
      "cell_type": "code",
      "execution_count": null,
      "id": "aa5f15f2",
      "metadata": {
        "id": "aa5f15f2"
      },
      "outputs": [],
      "source": [
        "df['clean'] = df['partition'].apply(lambda x: ' '.join(map(str, x)))"
      ]
    },
    {
      "cell_type": "code",
      "execution_count": null,
      "id": "ac58d43e",
      "metadata": {
        "id": "ac58d43e",
        "outputId": "bc7a580e-714b-416d-cb28-a620b9ae387e"
      },
      "outputs": [
        {
          "data": {
            "text/html": [
              "<div>\n",
              "<style scoped>\n",
              "    .dataframe tbody tr th:only-of-type {\n",
              "        vertical-align: middle;\n",
              "    }\n",
              "\n",
              "    .dataframe tbody tr th {\n",
              "        vertical-align: top;\n",
              "    }\n",
              "\n",
              "    .dataframe thead th {\n",
              "        text-align: right;\n",
              "    }\n",
              "</style>\n",
              "<table border=\"1\" class=\"dataframe\">\n",
              "  <thead>\n",
              "    <tr style=\"text-align: right;\">\n",
              "      <th></th>\n",
              "      <th>label</th>\n",
              "      <th>partition</th>\n",
              "      <th>clean</th>\n",
              "    </tr>\n",
              "  </thead>\n",
              "  <tbody>\n",
              "    <tr>\n",
              "      <th>0</th>\n",
              "      <td>a</td>\n",
              "      <td>[are, legally, required, to, prepare, your, pe...</td>\n",
              "      <td>are legally required to prepare your periodic ...</td>\n",
              "    </tr>\n",
              "    <tr>\n",
              "      <th>1</th>\n",
              "      <td>a</td>\n",
              "      <td>[_, SCENE, VI, The, same, Before, the, Castle,...</td>\n",
              "      <td>_ SCENE VI The same Before the Castle Hautboys...</td>\n",
              "    </tr>\n",
              "    <tr>\n",
              "      <th>2</th>\n",
              "      <td>a</td>\n",
              "      <td>[worthy, gentleman, SOLDIER, As, whence, the, ...</td>\n",
              "      <td>worthy gentleman SOLDIER As whence the sun gin...</td>\n",
              "    </tr>\n",
              "    <tr>\n",
              "      <th>3</th>\n",
              "      <td>a</td>\n",
              "      <td>[my, lord, MACBETH, I, ll, call, upon, you, st...</td>\n",
              "      <td>my lord MACBETH I ll call upon you straight ab...</td>\n",
              "    </tr>\n",
              "    <tr>\n",
              "      <th>4</th>\n",
              "      <td>a</td>\n",
              "      <td>[MACBETH, We, hear, our, bloody, cousins, are,...</td>\n",
              "      <td>MACBETH We hear our bloody cousins are bestow ...</td>\n",
              "    </tr>\n",
              "    <tr>\n",
              "      <th>...</th>\n",
              "      <td>...</td>\n",
              "      <td>...</td>\n",
              "      <td>...</td>\n",
              "    </tr>\n",
              "    <tr>\n",
              "      <th>195</th>\n",
              "      <td>e</td>\n",
              "      <td>[surely, Dr, Stockmann, Aha, Calls, out, Come,...</td>\n",
              "      <td>surely Dr Stockmann Aha Calls out Come in Mrs ...</td>\n",
              "    </tr>\n",
              "    <tr>\n",
              "      <th>196</th>\n",
              "      <td>e</td>\n",
              "      <td>[only, then, that, the, majority, recognises, ...</td>\n",
              "      <td>only then that the majority recognises them an...</td>\n",
              "    </tr>\n",
              "    <tr>\n",
              "      <th>197</th>\n",
              "      <td>e</td>\n",
              "      <td>[like, a, flock, of, sheep, Captain, Horster, ...</td>\n",
              "      <td>like a flock of sheep Captain Horster That is ...</td>\n",
              "    </tr>\n",
              "    <tr>\n",
              "      <th>198</th>\n",
              "      <td>e</td>\n",
              "      <td>[bag, of, tricks, are, probably, rampant, ther...</td>\n",
              "      <td>bag of tricks are probably rampant there too B...</td>\n",
              "    </tr>\n",
              "    <tr>\n",
              "      <th>199</th>\n",
              "      <td>e</td>\n",
              "      <td>[Dr, Stockmann, Hovstad, It, is, no, good, mak...</td>\n",
              "      <td>Dr Stockmann Hovstad It is no good making a my...</td>\n",
              "    </tr>\n",
              "  </tbody>\n",
              "</table>\n",
              "<p>1000 rows × 3 columns</p>\n",
              "</div>"
            ],
            "text/plain": [
              "    label                                          partition  \\\n",
              "0       a  [are, legally, required, to, prepare, your, pe...   \n",
              "1       a  [_, SCENE, VI, The, same, Before, the, Castle,...   \n",
              "2       a  [worthy, gentleman, SOLDIER, As, whence, the, ...   \n",
              "3       a  [my, lord, MACBETH, I, ll, call, upon, you, st...   \n",
              "4       a  [MACBETH, We, hear, our, bloody, cousins, are,...   \n",
              "..    ...                                                ...   \n",
              "195     e  [surely, Dr, Stockmann, Aha, Calls, out, Come,...   \n",
              "196     e  [only, then, that, the, majority, recognises, ...   \n",
              "197     e  [like, a, flock, of, sheep, Captain, Horster, ...   \n",
              "198     e  [bag, of, tricks, are, probably, rampant, ther...   \n",
              "199     e  [Dr, Stockmann, Hovstad, It, is, no, good, mak...   \n",
              "\n",
              "                                                 clean  \n",
              "0    are legally required to prepare your periodic ...  \n",
              "1    _ SCENE VI The same Before the Castle Hautboys...  \n",
              "2    worthy gentleman SOLDIER As whence the sun gin...  \n",
              "3    my lord MACBETH I ll call upon you straight ab...  \n",
              "4    MACBETH We hear our bloody cousins are bestow ...  \n",
              "..                                                 ...  \n",
              "195  surely Dr Stockmann Aha Calls out Come in Mrs ...  \n",
              "196  only then that the majority recognises them an...  \n",
              "197  like a flock of sheep Captain Horster That is ...  \n",
              "198  bag of tricks are probably rampant there too B...  \n",
              "199  Dr Stockmann Hovstad It is no good making a my...  \n",
              "\n",
              "[1000 rows x 3 columns]"
            ]
          },
          "execution_count": 1106,
          "metadata": {},
          "output_type": "execute_result"
        }
      ],
      "source": [
        "df"
      ]
    },
    {
      "cell_type": "code",
      "execution_count": null,
      "id": "c81bb308",
      "metadata": {
        "id": "c81bb308"
      },
      "outputs": [],
      "source": [
        "df[\"clean\"]=df[\"clean\"].apply(lambda x: \" \".join([w for w in x.split() if len(w)>2]))"
      ]
    },
    {
      "cell_type": "code",
      "execution_count": null,
      "id": "60f3c35d",
      "metadata": {
        "id": "60f3c35d"
      },
      "outputs": [],
      "source": [
        "df[\"clean\"] = df[\"clean\"].apply(lambda x: \" \".join(re.sub('[^0-9a-zA-Z]+', '', w) for w in x.split()))"
      ]
    },
    {
      "cell_type": "code",
      "execution_count": null,
      "id": "f67401c3",
      "metadata": {
        "scrolled": true,
        "id": "f67401c3",
        "outputId": "948bcdb8-78fa-4d73-a34f-cece29c328f5"
      },
      "outputs": [
        {
          "data": {
            "text/html": [
              "<div>\n",
              "<style scoped>\n",
              "    .dataframe tbody tr th:only-of-type {\n",
              "        vertical-align: middle;\n",
              "    }\n",
              "\n",
              "    .dataframe tbody tr th {\n",
              "        vertical-align: top;\n",
              "    }\n",
              "\n",
              "    .dataframe thead th {\n",
              "        text-align: right;\n",
              "    }\n",
              "</style>\n",
              "<table border=\"1\" class=\"dataframe\">\n",
              "  <thead>\n",
              "    <tr style=\"text-align: right;\">\n",
              "      <th></th>\n",
              "      <th>label</th>\n",
              "      <th>partition</th>\n",
              "      <th>clean</th>\n",
              "    </tr>\n",
              "  </thead>\n",
              "  <tbody>\n",
              "    <tr>\n",
              "      <th>0</th>\n",
              "      <td>a</td>\n",
              "      <td>[are, legally, required, to, prepare, your, pe...</td>\n",
              "      <td>are legally required prepare your periodic tax...</td>\n",
              "    </tr>\n",
              "    <tr>\n",
              "      <th>1</th>\n",
              "      <td>a</td>\n",
              "      <td>[_, SCENE, VI, The, same, Before, the, Castle,...</td>\n",
              "      <td>SCENE The same Before the Castle Hautboys Serv...</td>\n",
              "    </tr>\n",
              "    <tr>\n",
              "      <th>2</th>\n",
              "      <td>a</td>\n",
              "      <td>[worthy, gentleman, SOLDIER, As, whence, the, ...</td>\n",
              "      <td>worthy gentleman SOLDIER whence the sun gins h...</td>\n",
              "    </tr>\n",
              "    <tr>\n",
              "      <th>3</th>\n",
              "      <td>a</td>\n",
              "      <td>[my, lord, MACBETH, I, ll, call, upon, you, st...</td>\n",
              "      <td>lord MACBETH call upon you straight abide with...</td>\n",
              "    </tr>\n",
              "    <tr>\n",
              "      <th>4</th>\n",
              "      <td>a</td>\n",
              "      <td>[MACBETH, We, hear, our, bloody, cousins, are,...</td>\n",
              "      <td>MACBETH hear our bloody cousins are bestow Eng...</td>\n",
              "    </tr>\n",
              "    <tr>\n",
              "      <th>...</th>\n",
              "      <td>...</td>\n",
              "      <td>...</td>\n",
              "      <td>...</td>\n",
              "    </tr>\n",
              "    <tr>\n",
              "      <th>195</th>\n",
              "      <td>e</td>\n",
              "      <td>[surely, Dr, Stockmann, Aha, Calls, out, Come,...</td>\n",
              "      <td>surely Stockmann Aha Calls out Come Mrs Stockm...</td>\n",
              "    </tr>\n",
              "    <tr>\n",
              "      <th>196</th>\n",
              "      <td>e</td>\n",
              "      <td>[only, then, that, the, majority, recognises, ...</td>\n",
              "      <td>only then that the majority recognises them an...</td>\n",
              "    </tr>\n",
              "    <tr>\n",
              "      <th>197</th>\n",
              "      <td>e</td>\n",
              "      <td>[like, a, flock, of, sheep, Captain, Horster, ...</td>\n",
              "      <td>like flock sheep Captain Horster That what mou...</td>\n",
              "    </tr>\n",
              "    <tr>\n",
              "      <th>198</th>\n",
              "      <td>e</td>\n",
              "      <td>[bag, of, tricks, are, probably, rampant, ther...</td>\n",
              "      <td>bag tricks are probably rampant there too But ...</td>\n",
              "    </tr>\n",
              "    <tr>\n",
              "      <th>199</th>\n",
              "      <td>e</td>\n",
              "      <td>[Dr, Stockmann, Hovstad, It, is, no, good, mak...</td>\n",
              "      <td>Stockmann Hovstad good making mystery any long...</td>\n",
              "    </tr>\n",
              "  </tbody>\n",
              "</table>\n",
              "<p>1000 rows × 3 columns</p>\n",
              "</div>"
            ],
            "text/plain": [
              "    label                                          partition  \\\n",
              "0       a  [are, legally, required, to, prepare, your, pe...   \n",
              "1       a  [_, SCENE, VI, The, same, Before, the, Castle,...   \n",
              "2       a  [worthy, gentleman, SOLDIER, As, whence, the, ...   \n",
              "3       a  [my, lord, MACBETH, I, ll, call, upon, you, st...   \n",
              "4       a  [MACBETH, We, hear, our, bloody, cousins, are,...   \n",
              "..    ...                                                ...   \n",
              "195     e  [surely, Dr, Stockmann, Aha, Calls, out, Come,...   \n",
              "196     e  [only, then, that, the, majority, recognises, ...   \n",
              "197     e  [like, a, flock, of, sheep, Captain, Horster, ...   \n",
              "198     e  [bag, of, tricks, are, probably, rampant, ther...   \n",
              "199     e  [Dr, Stockmann, Hovstad, It, is, no, good, mak...   \n",
              "\n",
              "                                                 clean  \n",
              "0    are legally required prepare your periodic tax...  \n",
              "1    SCENE The same Before the Castle Hautboys Serv...  \n",
              "2    worthy gentleman SOLDIER whence the sun gins h...  \n",
              "3    lord MACBETH call upon you straight abide with...  \n",
              "4    MACBETH hear our bloody cousins are bestow Eng...  \n",
              "..                                                 ...  \n",
              "195  surely Stockmann Aha Calls out Come Mrs Stockm...  \n",
              "196  only then that the majority recognises them an...  \n",
              "197  like flock sheep Captain Horster That what mou...  \n",
              "198  bag tricks are probably rampant there too But ...  \n",
              "199  Stockmann Hovstad good making mystery any long...  \n",
              "\n",
              "[1000 rows x 3 columns]"
            ]
          },
          "execution_count": 1109,
          "metadata": {},
          "output_type": "execute_result"
        }
      ],
      "source": [
        "df"
      ]
    },
    {
      "cell_type": "code",
      "execution_count": null,
      "id": "d94f1e69",
      "metadata": {
        "id": "d94f1e69",
        "outputId": "7e93878d-2eb7-4b6c-beb6-75acfb31849f"
      },
      "outputs": [
        {
          "data": {
            "text/plain": [
              "0    [are, legally, required, prepare, your, period...\n",
              "1    [SCENE, The, same, Before, the, Castle, Hautbo...\n",
              "2    [worthy, gentleman, SOLDIER, whence, the, sun,...\n",
              "3    [lord, MACBETH, call, upon, you, straight, abi...\n",
              "4    [MACBETH, hear, our, bloody, cousins, are, bes...\n",
              "Name: clean, dtype: object"
            ]
          },
          "execution_count": 1110,
          "metadata": {},
          "output_type": "execute_result"
        }
      ],
      "source": [
        "tokenizedtweet=df[\"clean\"].apply(lambda x : x.split())\n",
        "tokenizedtweet.head()"
      ]
    },
    {
      "cell_type": "code",
      "execution_count": null,
      "id": "cb95d419",
      "metadata": {
        "id": "cb95d419",
        "outputId": "4bdcd217-18c2-457e-d4d4-749b2842d08e"
      },
      "outputs": [
        {
          "data": {
            "text/plain": [
              "0    [are, legal, requir, prepar, your, period, tax...\n",
              "1    [scene, the, same, befor, the, castl, hautboy,...\n",
              "2    [worthi, gentleman, soldier, whenc, the, sun, ...\n",
              "3    [lord, macbeth, call, upon, you, straight, abi...\n",
              "4    [macbeth, hear, our, bloodi, cousin, are, best...\n",
              "Name: clean, dtype: object"
            ]
          },
          "execution_count": 1111,
          "metadata": {},
          "output_type": "execute_result"
        }
      ],
      "source": [
        "from nltk.stem.porter import PorterStemmer\n",
        "stemmer= PorterStemmer()\n",
        "tokenizedtweet1=tokenizedtweet.apply(lambda x : [stemmer.stem(word) for word in x])\n",
        "tokenizedtweet1.head()"
      ]
    },
    {
      "cell_type": "code",
      "execution_count": null,
      "id": "f6899cbe",
      "metadata": {
        "id": "f6899cbe",
        "outputId": "ccd05f15-715c-421a-ee37-0e913db17ecb"
      },
      "outputs": [
        {
          "data": {
            "text/plain": [
              "0    are legal requir prepar your period tax return...\n",
              "1    scene the same befor the castl hautboy servant...\n",
              "2    worthi gentleman soldier whenc the sun gin hi ...\n",
              "3    lord macbeth call upon you straight abid withi...\n",
              "4    macbeth hear our bloodi cousin are bestow engl...\n",
              "Name: clean, dtype: object"
            ]
          },
          "execution_count": 1112,
          "metadata": {},
          "output_type": "execute_result"
        }
      ],
      "source": [
        "tokenizedtweet1=tokenizedtweet1.apply(lambda x : \" \".join([i for i in x]))\n",
        "tokenizedtweet1.head()"
      ]
    },
    {
      "cell_type": "code",
      "execution_count": null,
      "id": "d4b3b979",
      "metadata": {
        "id": "d4b3b979",
        "outputId": "737d49a0-328b-44b6-d4af-0aaaeaa389c9"
      },
      "outputs": [
        {
          "data": {
            "text/html": [
              "<div>\n",
              "<style scoped>\n",
              "    .dataframe tbody tr th:only-of-type {\n",
              "        vertical-align: middle;\n",
              "    }\n",
              "\n",
              "    .dataframe tbody tr th {\n",
              "        vertical-align: top;\n",
              "    }\n",
              "\n",
              "    .dataframe thead th {\n",
              "        text-align: right;\n",
              "    }\n",
              "</style>\n",
              "<table border=\"1\" class=\"dataframe\">\n",
              "  <thead>\n",
              "    <tr style=\"text-align: right;\">\n",
              "      <th></th>\n",
              "      <th>label</th>\n",
              "      <th>partition</th>\n",
              "      <th>clean</th>\n",
              "    </tr>\n",
              "  </thead>\n",
              "  <tbody>\n",
              "    <tr>\n",
              "      <th>0</th>\n",
              "      <td>a</td>\n",
              "      <td>[are, legally, required, to, prepare, your, pe...</td>\n",
              "      <td>are legal requir prepar your period tax return...</td>\n",
              "    </tr>\n",
              "    <tr>\n",
              "      <th>1</th>\n",
              "      <td>a</td>\n",
              "      <td>[_, SCENE, VI, The, same, Before, the, Castle,...</td>\n",
              "      <td>scene the same befor the castl hautboy servant...</td>\n",
              "    </tr>\n",
              "    <tr>\n",
              "      <th>2</th>\n",
              "      <td>a</td>\n",
              "      <td>[worthy, gentleman, SOLDIER, As, whence, the, ...</td>\n",
              "      <td>worthi gentleman soldier whenc the sun gin hi ...</td>\n",
              "    </tr>\n",
              "    <tr>\n",
              "      <th>3</th>\n",
              "      <td>a</td>\n",
              "      <td>[my, lord, MACBETH, I, ll, call, upon, you, st...</td>\n",
              "      <td>lord macbeth call upon you straight abid withi...</td>\n",
              "    </tr>\n",
              "    <tr>\n",
              "      <th>4</th>\n",
              "      <td>a</td>\n",
              "      <td>[MACBETH, We, hear, our, bloody, cousins, are,...</td>\n",
              "      <td>macbeth hear our bloodi cousin are bestow engl...</td>\n",
              "    </tr>\n",
              "  </tbody>\n",
              "</table>\n",
              "</div>"
            ],
            "text/plain": [
              "  label                                          partition  \\\n",
              "0     a  [are, legally, required, to, prepare, your, pe...   \n",
              "1     a  [_, SCENE, VI, The, same, Before, the, Castle,...   \n",
              "2     a  [worthy, gentleman, SOLDIER, As, whence, the, ...   \n",
              "3     a  [my, lord, MACBETH, I, ll, call, upon, you, st...   \n",
              "4     a  [MACBETH, We, hear, our, bloody, cousins, are,...   \n",
              "\n",
              "                                               clean  \n",
              "0  are legal requir prepar your period tax return...  \n",
              "1  scene the same befor the castl hautboy servant...  \n",
              "2  worthi gentleman soldier whenc the sun gin hi ...  \n",
              "3  lord macbeth call upon you straight abid withi...  \n",
              "4  macbeth hear our bloodi cousin are bestow engl...  "
            ]
          },
          "execution_count": 1113,
          "metadata": {},
          "output_type": "execute_result"
        }
      ],
      "source": [
        "df[\"clean\"]=tokenizedtweet1\n",
        "df.head()"
      ]
    },
    {
      "cell_type": "code",
      "execution_count": null,
      "id": "c9862931",
      "metadata": {
        "scrolled": true,
        "id": "c9862931",
        "outputId": "44f4ae8b-1a0e-4b04-f4a7-e999e5ea546f"
      },
      "outputs": [
        {
          "name": "stderr",
          "output_type": "stream",
          "text": [
            "[nltk_data] Downloading package wordnet to\n",
            "[nltk_data]     C:\\Users\\goluk\\AppData\\Roaming\\nltk_data...\n",
            "[nltk_data]   Package wordnet is already up-to-date!\n"
          ]
        },
        {
          "data": {
            "text/plain": [
              "True"
            ]
          },
          "execution_count": 1114,
          "metadata": {},
          "output_type": "execute_result"
        }
      ],
      "source": [
        "from nltk.stem import WordNetLemmatizer\n",
        "nltk.download('wordnet')"
      ]
    },
    {
      "cell_type": "code",
      "execution_count": null,
      "id": "99372a4f",
      "metadata": {
        "id": "99372a4f",
        "outputId": "79e5fc89-3382-4802-e93a-fdf075168a33"
      },
      "outputs": [
        {
          "name": "stderr",
          "output_type": "stream",
          "text": [
            "[nltk_data] Downloading package omw-1.4 to\n",
            "[nltk_data]     C:\\Users\\goluk\\AppData\\Roaming\\nltk_data...\n",
            "[nltk_data]   Package omw-1.4 is already up-to-date!\n"
          ]
        },
        {
          "data": {
            "text/plain": [
              "True"
            ]
          },
          "execution_count": 1115,
          "metadata": {},
          "output_type": "execute_result"
        }
      ],
      "source": [
        "nltk.download('omw-1.4')"
      ]
    },
    {
      "cell_type": "code",
      "execution_count": null,
      "id": "940d45ad",
      "metadata": {
        "id": "940d45ad",
        "outputId": "fc0979b8-6967-4ea0-c6e6-a3fc00191427"
      },
      "outputs": [
        {
          "data": {
            "text/plain": [
              "0    [are, legally, required, prepare, your, period...\n",
              "1    [SCENE, The, same, Before, the, Castle, Hautbo...\n",
              "2    [worthy, gentleman, SOLDIER, whence, the, sun,...\n",
              "3    [lord, MACBETH, call, upon, you, straight, abi...\n",
              "4    [MACBETH, hear, our, bloody, cousin, are, best...\n",
              "Name: clean, dtype: object"
            ]
          },
          "execution_count": 1116,
          "metadata": {},
          "output_type": "execute_result"
        }
      ],
      "source": [
        "lemmatizer = WordNetLemmatizer()\n",
        "tokenizedtweet2=tokenizedtweet.apply(lambda x : [lemmatizer.lemmatize(word) for word in x])\n",
        "tokenizedtweet2.head()"
      ]
    },
    {
      "cell_type": "code",
      "execution_count": null,
      "id": "ab91630e",
      "metadata": {
        "id": "ab91630e",
        "outputId": "e1dd9934-3762-4643-803c-0db7da8c6291"
      },
      "outputs": [
        {
          "data": {
            "text/plain": [
              "0    are legally required prepare your periodic tax...\n",
              "1    SCENE The same Before the Castle Hautboys Serv...\n",
              "2    worthy gentleman SOLDIER whence the sun gin hi...\n",
              "3    lord MACBETH call upon you straight abide with...\n",
              "4    MACBETH hear our bloody cousin are bestow Engl...\n",
              "Name: clean, dtype: object"
            ]
          },
          "execution_count": 1117,
          "metadata": {},
          "output_type": "execute_result"
        }
      ],
      "source": [
        "tokenizedtweet2=tokenizedtweet2.apply(lambda x : \" \".join([i for i in x]))\n",
        "tokenizedtweet2.head()"
      ]
    },
    {
      "cell_type": "code",
      "execution_count": null,
      "id": "4d105bee",
      "metadata": {
        "id": "4d105bee",
        "outputId": "eb4f9991-7f1f-40d0-e04e-a940f524aafa"
      },
      "outputs": [
        {
          "data": {
            "text/html": [
              "<div>\n",
              "<style scoped>\n",
              "    .dataframe tbody tr th:only-of-type {\n",
              "        vertical-align: middle;\n",
              "    }\n",
              "\n",
              "    .dataframe tbody tr th {\n",
              "        vertical-align: top;\n",
              "    }\n",
              "\n",
              "    .dataframe thead th {\n",
              "        text-align: right;\n",
              "    }\n",
              "</style>\n",
              "<table border=\"1\" class=\"dataframe\">\n",
              "  <thead>\n",
              "    <tr style=\"text-align: right;\">\n",
              "      <th></th>\n",
              "      <th>label</th>\n",
              "      <th>partition</th>\n",
              "      <th>clean</th>\n",
              "      <th>clean_lem</th>\n",
              "    </tr>\n",
              "  </thead>\n",
              "  <tbody>\n",
              "    <tr>\n",
              "      <th>0</th>\n",
              "      <td>a</td>\n",
              "      <td>[are, legally, required, to, prepare, your, pe...</td>\n",
              "      <td>are legal requir prepar your period tax return...</td>\n",
              "      <td>are legally required prepare your periodic tax...</td>\n",
              "    </tr>\n",
              "    <tr>\n",
              "      <th>1</th>\n",
              "      <td>a</td>\n",
              "      <td>[_, SCENE, VI, The, same, Before, the, Castle,...</td>\n",
              "      <td>scene the same befor the castl hautboy servant...</td>\n",
              "      <td>SCENE The same Before the Castle Hautboys Serv...</td>\n",
              "    </tr>\n",
              "    <tr>\n",
              "      <th>2</th>\n",
              "      <td>a</td>\n",
              "      <td>[worthy, gentleman, SOLDIER, As, whence, the, ...</td>\n",
              "      <td>worthi gentleman soldier whenc the sun gin hi ...</td>\n",
              "      <td>worthy gentleman SOLDIER whence the sun gin hi...</td>\n",
              "    </tr>\n",
              "    <tr>\n",
              "      <th>3</th>\n",
              "      <td>a</td>\n",
              "      <td>[my, lord, MACBETH, I, ll, call, upon, you, st...</td>\n",
              "      <td>lord macbeth call upon you straight abid withi...</td>\n",
              "      <td>lord MACBETH call upon you straight abide with...</td>\n",
              "    </tr>\n",
              "    <tr>\n",
              "      <th>4</th>\n",
              "      <td>a</td>\n",
              "      <td>[MACBETH, We, hear, our, bloody, cousins, are,...</td>\n",
              "      <td>macbeth hear our bloodi cousin are bestow engl...</td>\n",
              "      <td>MACBETH hear our bloody cousin are bestow Engl...</td>\n",
              "    </tr>\n",
              "  </tbody>\n",
              "</table>\n",
              "</div>"
            ],
            "text/plain": [
              "  label                                          partition  \\\n",
              "0     a  [are, legally, required, to, prepare, your, pe...   \n",
              "1     a  [_, SCENE, VI, The, same, Before, the, Castle,...   \n",
              "2     a  [worthy, gentleman, SOLDIER, As, whence, the, ...   \n",
              "3     a  [my, lord, MACBETH, I, ll, call, upon, you, st...   \n",
              "4     a  [MACBETH, We, hear, our, bloody, cousins, are,...   \n",
              "\n",
              "                                               clean  \\\n",
              "0  are legal requir prepar your period tax return...   \n",
              "1  scene the same befor the castl hautboy servant...   \n",
              "2  worthi gentleman soldier whenc the sun gin hi ...   \n",
              "3  lord macbeth call upon you straight abid withi...   \n",
              "4  macbeth hear our bloodi cousin are bestow engl...   \n",
              "\n",
              "                                           clean_lem  \n",
              "0  are legally required prepare your periodic tax...  \n",
              "1  SCENE The same Before the Castle Hautboys Serv...  \n",
              "2  worthy gentleman SOLDIER whence the sun gin hi...  \n",
              "3  lord MACBETH call upon you straight abide with...  \n",
              "4  MACBETH hear our bloody cousin are bestow Engl...  "
            ]
          },
          "execution_count": 1118,
          "metadata": {},
          "output_type": "execute_result"
        }
      ],
      "source": [
        "df[\"clean_lem\"]=tokenizedtweet2\n",
        "df.head()"
      ]
    },
    {
      "cell_type": "code",
      "execution_count": null,
      "id": "bd7a4b6f",
      "metadata": {
        "id": "bd7a4b6f"
      },
      "outputs": [],
      "source": [
        "df['clean_lem'] = df['clean_lem'].apply(lambda x: x.lower())"
      ]
    },
    {
      "cell_type": "code",
      "execution_count": null,
      "id": "45c0ff69",
      "metadata": {
        "scrolled": true,
        "id": "45c0ff69",
        "outputId": "06d7f59b-e971-4904-9b0b-c228429a481b"
      },
      "outputs": [
        {
          "data": {
            "text/html": [
              "<div>\n",
              "<style scoped>\n",
              "    .dataframe tbody tr th:only-of-type {\n",
              "        vertical-align: middle;\n",
              "    }\n",
              "\n",
              "    .dataframe tbody tr th {\n",
              "        vertical-align: top;\n",
              "    }\n",
              "\n",
              "    .dataframe thead th {\n",
              "        text-align: right;\n",
              "    }\n",
              "</style>\n",
              "<table border=\"1\" class=\"dataframe\">\n",
              "  <thead>\n",
              "    <tr style=\"text-align: right;\">\n",
              "      <th></th>\n",
              "      <th>label</th>\n",
              "      <th>partition</th>\n",
              "      <th>clean</th>\n",
              "      <th>clean_lem</th>\n",
              "    </tr>\n",
              "  </thead>\n",
              "  <tbody>\n",
              "    <tr>\n",
              "      <th>0</th>\n",
              "      <td>a</td>\n",
              "      <td>[are, legally, required, to, prepare, your, pe...</td>\n",
              "      <td>are legal requir prepar your period tax return...</td>\n",
              "      <td>are legally required prepare your periodic tax...</td>\n",
              "    </tr>\n",
              "    <tr>\n",
              "      <th>1</th>\n",
              "      <td>a</td>\n",
              "      <td>[_, SCENE, VI, The, same, Before, the, Castle,...</td>\n",
              "      <td>scene the same befor the castl hautboy servant...</td>\n",
              "      <td>scene the same before the castle hautboys serv...</td>\n",
              "    </tr>\n",
              "    <tr>\n",
              "      <th>2</th>\n",
              "      <td>a</td>\n",
              "      <td>[worthy, gentleman, SOLDIER, As, whence, the, ...</td>\n",
              "      <td>worthi gentleman soldier whenc the sun gin hi ...</td>\n",
              "      <td>worthy gentleman soldier whence the sun gin hi...</td>\n",
              "    </tr>\n",
              "    <tr>\n",
              "      <th>3</th>\n",
              "      <td>a</td>\n",
              "      <td>[my, lord, MACBETH, I, ll, call, upon, you, st...</td>\n",
              "      <td>lord macbeth call upon you straight abid withi...</td>\n",
              "      <td>lord macbeth call upon you straight abide with...</td>\n",
              "    </tr>\n",
              "    <tr>\n",
              "      <th>4</th>\n",
              "      <td>a</td>\n",
              "      <td>[MACBETH, We, hear, our, bloody, cousins, are,...</td>\n",
              "      <td>macbeth hear our bloodi cousin are bestow engl...</td>\n",
              "      <td>macbeth hear our bloody cousin are bestow engl...</td>\n",
              "    </tr>\n",
              "  </tbody>\n",
              "</table>\n",
              "</div>"
            ],
            "text/plain": [
              "  label                                          partition  \\\n",
              "0     a  [are, legally, required, to, prepare, your, pe...   \n",
              "1     a  [_, SCENE, VI, The, same, Before, the, Castle,...   \n",
              "2     a  [worthy, gentleman, SOLDIER, As, whence, the, ...   \n",
              "3     a  [my, lord, MACBETH, I, ll, call, upon, you, st...   \n",
              "4     a  [MACBETH, We, hear, our, bloody, cousins, are,...   \n",
              "\n",
              "                                               clean  \\\n",
              "0  are legal requir prepar your period tax return...   \n",
              "1  scene the same befor the castl hautboy servant...   \n",
              "2  worthi gentleman soldier whenc the sun gin hi ...   \n",
              "3  lord macbeth call upon you straight abid withi...   \n",
              "4  macbeth hear our bloodi cousin are bestow engl...   \n",
              "\n",
              "                                           clean_lem  \n",
              "0  are legally required prepare your periodic tax...  \n",
              "1  scene the same before the castle hautboys serv...  \n",
              "2  worthy gentleman soldier whence the sun gin hi...  \n",
              "3  lord macbeth call upon you straight abide with...  \n",
              "4  macbeth hear our bloody cousin are bestow engl...  "
            ]
          },
          "execution_count": 1120,
          "metadata": {},
          "output_type": "execute_result"
        }
      ],
      "source": [
        "df.head()"
      ]
    },
    {
      "cell_type": "code",
      "execution_count": null,
      "id": "2392a8ce",
      "metadata": {
        "id": "2392a8ce"
      },
      "outputs": [],
      "source": [
        "from sklearn.preprocessing import LabelEncoder\n",
        "le = LabelEncoder()\n",
        "df[\"label\"] = le.fit_transform(df[\"label\"])"
      ]
    },
    {
      "cell_type": "code",
      "execution_count": null,
      "id": "60ed4728",
      "metadata": {
        "id": "60ed4728",
        "outputId": "637c921c-b564-4a36-cc95-bfee1951251f"
      },
      "outputs": [
        {
          "data": {
            "text/html": [
              "<div>\n",
              "<style scoped>\n",
              "    .dataframe tbody tr th:only-of-type {\n",
              "        vertical-align: middle;\n",
              "    }\n",
              "\n",
              "    .dataframe tbody tr th {\n",
              "        vertical-align: top;\n",
              "    }\n",
              "\n",
              "    .dataframe thead th {\n",
              "        text-align: right;\n",
              "    }\n",
              "</style>\n",
              "<table border=\"1\" class=\"dataframe\">\n",
              "  <thead>\n",
              "    <tr style=\"text-align: right;\">\n",
              "      <th></th>\n",
              "      <th>label</th>\n",
              "      <th>partition</th>\n",
              "      <th>clean</th>\n",
              "      <th>clean_lem</th>\n",
              "    </tr>\n",
              "  </thead>\n",
              "  <tbody>\n",
              "    <tr>\n",
              "      <th>0</th>\n",
              "      <td>0</td>\n",
              "      <td>[are, legally, required, to, prepare, your, pe...</td>\n",
              "      <td>are legal requir prepar your period tax return...</td>\n",
              "      <td>are legally required prepare your periodic tax...</td>\n",
              "    </tr>\n",
              "    <tr>\n",
              "      <th>1</th>\n",
              "      <td>0</td>\n",
              "      <td>[_, SCENE, VI, The, same, Before, the, Castle,...</td>\n",
              "      <td>scene the same befor the castl hautboy servant...</td>\n",
              "      <td>scene the same before the castle hautboys serv...</td>\n",
              "    </tr>\n",
              "    <tr>\n",
              "      <th>2</th>\n",
              "      <td>0</td>\n",
              "      <td>[worthy, gentleman, SOLDIER, As, whence, the, ...</td>\n",
              "      <td>worthi gentleman soldier whenc the sun gin hi ...</td>\n",
              "      <td>worthy gentleman soldier whence the sun gin hi...</td>\n",
              "    </tr>\n",
              "    <tr>\n",
              "      <th>3</th>\n",
              "      <td>0</td>\n",
              "      <td>[my, lord, MACBETH, I, ll, call, upon, you, st...</td>\n",
              "      <td>lord macbeth call upon you straight abid withi...</td>\n",
              "      <td>lord macbeth call upon you straight abide with...</td>\n",
              "    </tr>\n",
              "    <tr>\n",
              "      <th>4</th>\n",
              "      <td>0</td>\n",
              "      <td>[MACBETH, We, hear, our, bloody, cousins, are,...</td>\n",
              "      <td>macbeth hear our bloodi cousin are bestow engl...</td>\n",
              "      <td>macbeth hear our bloody cousin are bestow engl...</td>\n",
              "    </tr>\n",
              "  </tbody>\n",
              "</table>\n",
              "</div>"
            ],
            "text/plain": [
              "   label                                          partition  \\\n",
              "0      0  [are, legally, required, to, prepare, your, pe...   \n",
              "1      0  [_, SCENE, VI, The, same, Before, the, Castle,...   \n",
              "2      0  [worthy, gentleman, SOLDIER, As, whence, the, ...   \n",
              "3      0  [my, lord, MACBETH, I, ll, call, upon, you, st...   \n",
              "4      0  [MACBETH, We, hear, our, bloody, cousins, are,...   \n",
              "\n",
              "                                               clean  \\\n",
              "0  are legal requir prepar your period tax return...   \n",
              "1  scene the same befor the castl hautboy servant...   \n",
              "2  worthi gentleman soldier whenc the sun gin hi ...   \n",
              "3  lord macbeth call upon you straight abid withi...   \n",
              "4  macbeth hear our bloodi cousin are bestow engl...   \n",
              "\n",
              "                                           clean_lem  \n",
              "0  are legally required prepare your periodic tax...  \n",
              "1  scene the same before the castle hautboys serv...  \n",
              "2  worthy gentleman soldier whence the sun gin hi...  \n",
              "3  lord macbeth call upon you straight abide with...  \n",
              "4  macbeth hear our bloody cousin are bestow engl...  "
            ]
          },
          "execution_count": 1122,
          "metadata": {},
          "output_type": "execute_result"
        }
      ],
      "source": [
        "df.head()"
      ]
    },
    {
      "cell_type": "code",
      "execution_count": null,
      "id": "a2273c27",
      "metadata": {
        "id": "a2273c27"
      },
      "outputs": [],
      "source": [
        "from sklearn.feature_extraction.text import CountVectorizer\n",
        "bow_vectorizer=CountVectorizer()"
      ]
    },
    {
      "cell_type": "code",
      "execution_count": null,
      "id": "224b5f0c",
      "metadata": {
        "id": "224b5f0c"
      },
      "outputs": [],
      "source": [
        "bow=bow_vectorizer.fit_transform(df[\"clean\"])"
      ]
    },
    {
      "cell_type": "code",
      "execution_count": null,
      "id": "6892f3cf",
      "metadata": {
        "id": "6892f3cf"
      },
      "outputs": [],
      "source": [
        "bow_l=bow_vectorizer.fit_transform(df[\"clean_lem\"]) #run this or above"
      ]
    },
    {
      "cell_type": "code",
      "execution_count": null,
      "id": "fe582b3d",
      "metadata": {
        "id": "fe582b3d"
      },
      "outputs": [],
      "source": []
    },
    {
      "cell_type": "code",
      "execution_count": null,
      "id": "52d33cbe",
      "metadata": {
        "id": "52d33cbe"
      },
      "outputs": [],
      "source": [
        "stemmed_accuracies_bow = []\n",
        "stemmed_accuracies_tf = []\n",
        "lem_accuracies_bow = []\n",
        "lem_accuracies_tf = []"
      ]
    },
    {
      "cell_type": "code",
      "execution_count": null,
      "id": "f729a27b",
      "metadata": {
        "id": "f729a27b"
      },
      "outputs": [],
      "source": [
        "from sklearn.linear_model import LogisticRegression\n",
        "from sklearn.metrics import f1_score,accuracy_score\n",
        "le=LogisticRegression()"
      ]
    },
    {
      "cell_type": "code",
      "execution_count": null,
      "id": "61301fd2",
      "metadata": {
        "id": "61301fd2"
      },
      "outputs": [],
      "source": [
        "from sklearn.model_selection import KFold\n",
        "def modeltype(model,b,labels, n_splits=10):\n",
        "    kfold = KFold(n_splits=n_splits, shuffle=True, random_state=0)\n",
        "    accuracy = []\n",
        "    for train_index, test_index in kfold.split(b):\n",
        "        X_train, X_test = b[train_index], b[test_index]\n",
        "        y_train, y_test = labels[train_index], labels[test_index]\n",
        "        model.fit(X_train, y_train)\n",
        "        accuracy.append(model.score(X_test, y_test))\n",
        "    return np.mean(accuracy)\n",
        "labels = df[\"label\"].to_numpy()"
      ]
    },
    {
      "cell_type": "code",
      "execution_count": null,
      "id": "623cd326",
      "metadata": {
        "id": "623cd326"
      },
      "outputs": [],
      "source": [
        "from sklearn.model_selection import KFold\n",
        "from sklearn.metrics import confusion_matrix\n",
        "from sklearn.metrics import classification_report\n",
        "def modeltypefinal(model,b,labels, n_splits=10):\n",
        "    kfold = KFold(n_splits=n_splits, shuffle=True, random_state=0)\n",
        "    accuracy = []\n",
        "    c=[]\n",
        "    reports=[]\n",
        "    for train_index, test_index in kfold.split(b):\n",
        "        X_train, X_test = b[train_index], b[test_index]\n",
        "        y_train, y_test = labels[train_index], labels[test_index]\n",
        "        model.fit(X_train, y_train)\n",
        "        y_pred=model.predict(X_test)\n",
        "        cm=confusion_matrix(y_test,y_pred)\n",
        "        reports.append(classification_report(y_test, y_pred))\n",
        "        c.append(cm)\n",
        "        accuracy.append(model.score(X_test, y_test))\n",
        "    return np.mean(accuracy),c,reports\n",
        "labels = df[\"label\"].to_numpy()"
      ]
    },
    {
      "cell_type": "code",
      "execution_count": null,
      "id": "41a4c716",
      "metadata": {
        "id": "41a4c716",
        "outputId": "2ff7c2b5-09b8-42f2-c62a-256ed598b70e"
      },
      "outputs": [
        {
          "name": "stdout",
          "output_type": "stream",
          "text": [
            "Mean Accuracy: 0.882\n"
          ]
        }
      ],
      "source": [
        "cv_accuracy = modeltype(le,bow,labels)#STEMMING, BAG OF WORDS\n",
        "print(\"Mean Accuracy:\", cv_accuracy)\n",
        "stemmed_accuracies_bow.append(cv_accuracy*100)"
      ]
    },
    {
      "cell_type": "code",
      "execution_count": null,
      "id": "67e03bca",
      "metadata": {
        "id": "67e03bca"
      },
      "outputs": [],
      "source": []
    },
    {
      "cell_type": "code",
      "execution_count": null,
      "id": "70bfe2a8",
      "metadata": {
        "id": "70bfe2a8",
        "outputId": "fe8236bf-2dc0-4331-c37f-8a77d3f10ae4"
      },
      "outputs": [
        {
          "name": "stdout",
          "output_type": "stream",
          "text": [
            "Mean Accuracy: 0.882\n"
          ]
        }
      ],
      "source": [
        "cv_accuracy = modeltype(le,bow_l,labels)#LEMMATIZATION, BAG OF WORDS\n",
        "print(\"Mean Accuracy:\", cv_accuracy)\n",
        "lem_accuracies_bow.append(cv_accuracy*100)"
      ]
    },
    {
      "cell_type": "code",
      "execution_count": null,
      "id": "ba13db1f",
      "metadata": {
        "id": "ba13db1f"
      },
      "outputs": [],
      "source": []
    },
    {
      "cell_type": "code",
      "execution_count": null,
      "id": "5cb8ffe9",
      "metadata": {
        "id": "5cb8ffe9"
      },
      "outputs": [],
      "source": []
    },
    {
      "cell_type": "code",
      "execution_count": null,
      "id": "c5573362",
      "metadata": {
        "id": "c5573362"
      },
      "outputs": [],
      "source": [
        "from sklearn.feature_extraction.text import CountVectorizer\n",
        "from sklearn.feature_extraction.text import TfidfVectorizer\n",
        "t=TfidfVectorizer(max_df=0.90,min_df=2,max_features=1000,stop_words=\"english\",use_idf=True,ngram_range=(1,2))"
      ]
    },
    {
      "cell_type": "code",
      "execution_count": null,
      "id": "737e059e",
      "metadata": {
        "id": "737e059e"
      },
      "outputs": [],
      "source": [
        "tf=t.fit_transform(df[\"clean\"])"
      ]
    },
    {
      "cell_type": "code",
      "execution_count": null,
      "id": "507e28a0",
      "metadata": {
        "id": "507e28a0",
        "outputId": "463c2ddf-b284-48b9-bbab-7a806087be2f"
      },
      "outputs": [
        {
          "name": "stdout",
          "output_type": "stream",
          "text": [
            "Mean Accuracy: 0.9149999999999998\n",
            "CONFUSION MATRIX\n",
            "[[11  1  0  0  1]\n",
            " [ 3 25  0  0  0]\n",
            " [ 0  0 21  0  0]\n",
            " [ 0  0  0 21  0]\n",
            " [ 1  1  0  1 14]]\n",
            "CLASSIFICATION REPORT\n",
            "              precision    recall  f1-score   support\n",
            "\n",
            "           0       0.73      0.85      0.79        13\n",
            "           1       0.93      0.89      0.91        28\n",
            "           2       1.00      1.00      1.00        21\n",
            "           3       0.95      1.00      0.98        21\n",
            "           4       0.93      0.82      0.87        17\n",
            "\n",
            "    accuracy                           0.92       100\n",
            "   macro avg       0.91      0.91      0.91       100\n",
            "weighted avg       0.92      0.92      0.92       100\n",
            "\n"
          ]
        }
      ],
      "source": [
        "cv_accuracy,c,reports = modeltypefinal(le,tf,labels)#STEMMING, TF-IDF with LOGISTIC REGRESSION IS OUR BEST MODEL\n",
        "stemmed_accuracies_tf.append(cv_accuracy*100)\n",
        "print(\"Mean Accuracy:\", cv_accuracy)\n",
        "print(\"CONFUSION MATRIX\")\n",
        "print(c[0]) #printing only the first fold by canging the number it can be shown for every fold\n",
        "print(\"CLASSIFICATION REPORT\")\n",
        "print(reports[0]) #printing only the first fold by canging the number it can be shown for every fold"
      ]
    },
    {
      "cell_type": "code",
      "execution_count": null,
      "id": "b682c808",
      "metadata": {
        "id": "b682c808"
      },
      "outputs": [],
      "source": [
        "tf_l=t.fit_transform(df[\"clean_lem\"])"
      ]
    },
    {
      "cell_type": "code",
      "execution_count": null,
      "id": "f23d33b7",
      "metadata": {
        "id": "f23d33b7",
        "outputId": "b43a2c52-e31b-4fb5-b206-73217ad0970b"
      },
      "outputs": [
        {
          "name": "stdout",
          "output_type": "stream",
          "text": [
            "Mean Accuracy: 0.909\n"
          ]
        }
      ],
      "source": [
        "cv_accuracy = modeltype(le,tf_l,labels)#LEMMATIZATION TFIDF\n",
        "print(\"Mean Accuracy:\", cv_accuracy)\n",
        "lem_accuracies_tf.append(cv_accuracy*100)"
      ]
    },
    {
      "cell_type": "code",
      "execution_count": null,
      "id": "f3035887",
      "metadata": {
        "id": "f3035887"
      },
      "outputs": [],
      "source": []
    },
    {
      "cell_type": "code",
      "execution_count": null,
      "id": "5885a0f9",
      "metadata": {
        "id": "5885a0f9"
      },
      "outputs": [],
      "source": []
    },
    {
      "cell_type": "code",
      "execution_count": null,
      "id": "2214f519",
      "metadata": {
        "id": "2214f519"
      },
      "outputs": [],
      "source": []
    },
    {
      "cell_type": "code",
      "execution_count": null,
      "id": "5c4d9272",
      "metadata": {
        "id": "5c4d9272",
        "outputId": "0842c6a1-bd33-4424-9201-f1c0d3c81448"
      },
      "outputs": [
        {
          "name": "stdout",
          "output_type": "stream",
          "text": [
            "Mean Accuracy: 0.8230000000000001\n",
            "CONFUSION MATRIX\n",
            "[[ 9  3  1  0  0]\n",
            " [ 1 24  1  1  1]\n",
            " [ 0  1 16  4  0]\n",
            " [ 0  2  3 16  0]\n",
            " [ 0  1  0  0 16]]\n",
            "CLASSIFICATION REPORT\n",
            "              precision    recall  f1-score   support\n",
            "\n",
            "           0       0.90      0.69      0.78        13\n",
            "           1       0.77      0.86      0.81        28\n",
            "           2       0.76      0.76      0.76        21\n",
            "           3       0.76      0.76      0.76        21\n",
            "           4       0.94      0.94      0.94        17\n",
            "\n",
            "    accuracy                           0.81       100\n",
            "   macro avg       0.83      0.80      0.81       100\n",
            "weighted avg       0.81      0.81      0.81       100\n",
            "\n"
          ]
        }
      ],
      "source": [
        "from sklearn.tree import DecisionTreeClassifier\n",
        "classifier = DecisionTreeClassifier(criterion = 'entropy', random_state = 0)\n",
        "cv_accuracy,c,reports = modeltypefinal(classifier,tf,labels)#STEMMING, TF-IDF\n",
        "stemmed_accuracies_tf.append(cv_accuracy*100)\n",
        "print(\"Mean Accuracy:\", cv_accuracy)\n",
        "print(\"CONFUSION MATRIX\")\n",
        "print(c[0]) #printing only the first fold by canging the number it can be shown for every fold\n",
        "print(\"CLASSIFICATION REPORT\")\n",
        "print(reports[0]) #printing only the first fold by canging the number it can be shown for every fold"
      ]
    },
    {
      "cell_type": "code",
      "execution_count": null,
      "id": "52e9dbc2",
      "metadata": {
        "id": "52e9dbc2",
        "outputId": "6eb7f350-64ad-47c6-f256-e32745896e66"
      },
      "outputs": [
        {
          "name": "stdout",
          "output_type": "stream",
          "text": [
            "Mean Accuracy: 0.787\n"
          ]
        }
      ],
      "source": [
        "cv_accuracy = modeltype(classifier,tf_l,labels)\n",
        "print(\"Mean Accuracy:\", cv_accuracy)\n",
        "lem_accuracies_tf.append(cv_accuracy*100)"
      ]
    },
    {
      "cell_type": "code",
      "execution_count": null,
      "id": "3783ee9e",
      "metadata": {
        "id": "3783ee9e",
        "outputId": "398bff77-2e3e-4ca1-8276-da9f8b8f842f"
      },
      "outputs": [
        {
          "name": "stdout",
          "output_type": "stream",
          "text": [
            "Mean Accuracy: 0.7689999999999999\n"
          ]
        }
      ],
      "source": [
        "cv_accuracy = modeltype(classifier,bow,labels)\n",
        "print(\"Mean Accuracy:\", cv_accuracy)\n",
        "stemmed_accuracies_bow.append(cv_accuracy*100)"
      ]
    },
    {
      "cell_type": "code",
      "execution_count": null,
      "id": "3cd862d5",
      "metadata": {
        "id": "3cd862d5",
        "outputId": "999c4342-e893-4b9d-f350-f46633c05b82"
      },
      "outputs": [
        {
          "name": "stdout",
          "output_type": "stream",
          "text": [
            "Mean Accuracy: 0.762\n"
          ]
        }
      ],
      "source": [
        "cv_accuracy = modeltype(classifier,bow_l,labels)\n",
        "print(\"Mean Accuracy:\", cv_accuracy)\n",
        "lem_accuracies_bow.append(cv_accuracy*100)"
      ]
    },
    {
      "cell_type": "code",
      "execution_count": null,
      "id": "208f4381",
      "metadata": {
        "id": "208f4381"
      },
      "outputs": [],
      "source": []
    },
    {
      "cell_type": "code",
      "execution_count": null,
      "id": "eaa6e95e",
      "metadata": {
        "id": "eaa6e95e",
        "outputId": "aaf859d3-48e1-46b1-b9e8-01b5f98d310d"
      },
      "outputs": [
        {
          "name": "stdout",
          "output_type": "stream",
          "text": [
            "Mean Accuracy: 0.745\n"
          ]
        }
      ],
      "source": [
        "from sklearn.ensemble import RandomForestClassifier\n",
        "r=RandomForestClassifier(n_estimators=5)\n",
        "cv_accuracy = modeltype(r,bow,labels)\n",
        "print(\"Mean Accuracy:\", cv_accuracy)\n",
        "stemmed_accuracies_bow.append(cv_accuracy*100)"
      ]
    },
    {
      "cell_type": "code",
      "execution_count": null,
      "id": "b1042076",
      "metadata": {
        "id": "b1042076",
        "outputId": "be746542-2a98-4479-f4b1-a52769adf6c2"
      },
      "outputs": [
        {
          "name": "stdout",
          "output_type": "stream",
          "text": [
            "Mean Accuracy: 0.739\n"
          ]
        }
      ],
      "source": [
        "cv_accuracy = modeltype(r,bow_l,labels)\n",
        "print(\"Mean Accuracy:\", cv_accuracy)\n",
        "lem_accuracies_bow.append(cv_accuracy*100)"
      ]
    },
    {
      "cell_type": "code",
      "execution_count": null,
      "id": "70c698ca",
      "metadata": {
        "id": "70c698ca",
        "outputId": "d81834aa-ad91-4126-9958-7d58281007c8"
      },
      "outputs": [
        {
          "name": "stdout",
          "output_type": "stream",
          "text": [
            "Mean Accuracy: 0.8470000000000001\n",
            "CONFUSION MATRIX\n",
            "[[10  1  1  0  1]\n",
            " [ 2 23  0  2  1]\n",
            " [ 0  1 19  1  0]\n",
            " [ 1  2  0 18  0]\n",
            " [ 1  2  0  0 14]]\n",
            "CLASSIFICATION REPORT\n",
            "              precision    recall  f1-score   support\n",
            "\n",
            "           0       0.71      0.77      0.74        13\n",
            "           1       0.79      0.82      0.81        28\n",
            "           2       0.95      0.90      0.93        21\n",
            "           3       0.86      0.86      0.86        21\n",
            "           4       0.88      0.82      0.85        17\n",
            "\n",
            "    accuracy                           0.84       100\n",
            "   macro avg       0.84      0.84      0.84       100\n",
            "weighted avg       0.84      0.84      0.84       100\n",
            "\n"
          ]
        }
      ],
      "source": [
        "cv_accuracy,c,reports = modeltypefinal(r,tf,labels)#STEMMING, TF-IDF\n",
        "stemmed_accuracies_tf.append(cv_accuracy*100)\n",
        "print(\"Mean Accuracy:\", cv_accuracy)\n",
        "print(\"CONFUSION MATRIX\")\n",
        "print(c[0]) #printing only the first fold by canging the number it can be shown for every fold\n",
        "print(\"CLASSIFICATION REPORT\")\n",
        "print(reports[0]) #printing only the first fold by canging the number it can be shown for every fold"
      ]
    },
    {
      "cell_type": "code",
      "execution_count": null,
      "id": "6858c3df",
      "metadata": {
        "id": "6858c3df",
        "outputId": "6729b0b9-affe-4a83-bb8f-c2993fcd7a9a"
      },
      "outputs": [
        {
          "name": "stdout",
          "output_type": "stream",
          "text": [
            "Mean Accuracy: 0.837\n"
          ]
        }
      ],
      "source": [
        "cv_accuracy = modeltype(r,tf_l,labels)\n",
        "print(\"Mean Accuracy:\", cv_accuracy)\n",
        "lem_accuracies_tf.append(cv_accuracy*100)"
      ]
    },
    {
      "cell_type": "code",
      "execution_count": null,
      "id": "66312c59",
      "metadata": {
        "id": "66312c59"
      },
      "outputs": [],
      "source": []
    },
    {
      "cell_type": "code",
      "execution_count": null,
      "id": "951c684f",
      "metadata": {
        "id": "951c684f",
        "outputId": "b401173f-05bb-421e-b6ad-0fca65b77b08"
      },
      "outputs": [
        {
          "name": "stdout",
          "output_type": "stream",
          "text": [
            "Mean Accuracy: 0.874\n"
          ]
        }
      ],
      "source": [
        "from sklearn.svm import SVC\n",
        "s= SVC(kernel='linear', random_state=0)  \n",
        "cv_accuracy = modeltype(s,bow,labels)\n",
        "print(\"Mean Accuracy:\", cv_accuracy)\n",
        "stemmed_accuracies_bow.append(cv_accuracy*100)"
      ]
    },
    {
      "cell_type": "code",
      "execution_count": null,
      "id": "be3512ad",
      "metadata": {
        "id": "be3512ad",
        "outputId": "4ea9fd9a-5e67-4542-b44b-d821ddfb2e07"
      },
      "outputs": [
        {
          "name": "stdout",
          "output_type": "stream",
          "text": [
            "Mean Accuracy: 0.875\n"
          ]
        }
      ],
      "source": [
        "cv_accuracy = modeltype(s,bow_l,labels)\n",
        "print(\"Mean Accuracy:\", cv_accuracy)\n",
        "lem_accuracies_bow.append(cv_accuracy*100)"
      ]
    },
    {
      "cell_type": "code",
      "execution_count": null,
      "id": "9cae4c03",
      "metadata": {
        "id": "9cae4c03",
        "outputId": "7653cb87-e3d7-423b-8c80-415bed175b09"
      },
      "outputs": [
        {
          "name": "stdout",
          "output_type": "stream",
          "text": [
            "Mean Accuracy: 0.9119999999999999\n",
            "CONFUSION MATRIX\n",
            "[[11  2  0  0  0]\n",
            " [ 3 25  0  0  0]\n",
            " [ 0  0 21  0  0]\n",
            " [ 0  0  1 20  0]\n",
            " [ 1  1  0  0 15]]\n",
            "CLASSIFICATION REPORT\n",
            "              precision    recall  f1-score   support\n",
            "\n",
            "           0       0.73      0.85      0.79        13\n",
            "           1       0.89      0.89      0.89        28\n",
            "           2       0.95      1.00      0.98        21\n",
            "           3       1.00      0.95      0.98        21\n",
            "           4       1.00      0.88      0.94        17\n",
            "\n",
            "    accuracy                           0.92       100\n",
            "   macro avg       0.92      0.91      0.91       100\n",
            "weighted avg       0.93      0.92      0.92       100\n",
            "\n"
          ]
        }
      ],
      "source": [
        "cv_accuracy,c,reports = modeltypefinal(s,tf,labels)#STEMMING, TF-IDF\n",
        "stemmed_accuracies_tf.append(cv_accuracy*100)\n",
        "print(\"Mean Accuracy:\", cv_accuracy)\n",
        "print(\"CONFUSION MATRIX\")\n",
        "print(c[0]) #printing only the first fold by changing the number it can be shown for every fold\n",
        "print(\"CLASSIFICATION REPORT\")\n",
        "print(reports[0]) #printing only the first fold by changing the number it can be shown for every fold"
      ]
    },
    {
      "cell_type": "code",
      "execution_count": null,
      "id": "e931ba65",
      "metadata": {
        "id": "e931ba65",
        "outputId": "07b48d33-3fe7-41bb-f0cc-375a6571dde2"
      },
      "outputs": [
        {
          "name": "stdout",
          "output_type": "stream",
          "text": [
            "Mean Accuracy: 0.907\n"
          ]
        }
      ],
      "source": [
        "cv_accuracy = modeltype(s,tf_l,labels)\n",
        "print(\"Mean Accuracy:\", cv_accuracy)\n",
        "lem_accuracies_tf.append(cv_accuracy*100)"
      ]
    },
    {
      "cell_type": "code",
      "execution_count": null,
      "id": "492a04c4",
      "metadata": {
        "id": "492a04c4"
      },
      "outputs": [],
      "source": []
    },
    {
      "cell_type": "code",
      "execution_count": null,
      "id": "13da298a",
      "metadata": {
        "id": "13da298a",
        "outputId": "039aefb7-d44a-451a-80d2-c85f7a8a6902"
      },
      "outputs": [
        {
          "name": "stdout",
          "output_type": "stream",
          "text": [
            "Mean Accuracy: 0.887\n"
          ]
        }
      ],
      "source": [
        "from sklearn.naive_bayes import GaussianNB\n",
        "gnb = GaussianNB()\n",
        "cv_accuracy = modeltype(gnb,bow.todense(),labels)\n",
        "print(\"Mean Accuracy:\", cv_accuracy)\n",
        "stemmed_accuracies_bow.append(cv_accuracy*100)"
      ]
    },
    {
      "cell_type": "code",
      "execution_count": null,
      "id": "c6241806",
      "metadata": {
        "id": "c6241806",
        "outputId": "57dfa9db-b4f3-4194-eee6-0ea98700c81a"
      },
      "outputs": [
        {
          "name": "stdout",
          "output_type": "stream",
          "text": [
            "Mean Accuracy: 0.882\n"
          ]
        }
      ],
      "source": [
        "cv_accuracy = modeltype(gnb,bow_l.todense(),labels)\n",
        "print(\"Mean Accuracy:\", cv_accuracy)\n",
        "lem_accuracies_bow.append(cv_accuracy*100)"
      ]
    },
    {
      "cell_type": "code",
      "execution_count": null,
      "id": "38376b36",
      "metadata": {
        "id": "38376b36",
        "outputId": "402eca1a-14c3-471f-a768-07e0dc92fc2f"
      },
      "outputs": [
        {
          "name": "stdout",
          "output_type": "stream",
          "text": [
            "Mean Accuracy: 0.889\n",
            "CONFUSION MATRIX\n",
            "[[10  2  0  0  1]\n",
            " [ 1 25  0  0  2]\n",
            " [ 0  0 21  0  0]\n",
            " [ 0  0  1 20  0]\n",
            " [ 1  1  0  0 15]]\n",
            "CLASSIFICATION REPORT\n",
            "              precision    recall  f1-score   support\n",
            "\n",
            "           0       0.83      0.77      0.80        13\n",
            "           1       0.89      0.89      0.89        28\n",
            "           2       0.95      1.00      0.98        21\n",
            "           3       1.00      0.95      0.98        21\n",
            "           4       0.83      0.88      0.86        17\n",
            "\n",
            "    accuracy                           0.91       100\n",
            "   macro avg       0.90      0.90      0.90       100\n",
            "weighted avg       0.91      0.91      0.91       100\n",
            "\n"
          ]
        }
      ],
      "source": [
        "cv_accuracy,c,reports = modeltypefinal(gnb,tf.todense(),labels)#STEMMING, TF-IDF\n",
        "stemmed_accuracies_tf.append(cv_accuracy*100)\n",
        "print(\"Mean Accuracy:\", cv_accuracy)\n",
        "print(\"CONFUSION MATRIX\")\n",
        "print(c[0]) #printing only the first fold by canging the number it can be shown for every fold\n",
        "print(\"CLASSIFICATION REPORT\")\n",
        "print(reports[0]) #printing only the first fold by canging the number it can be shown for every fold"
      ]
    },
    {
      "cell_type": "code",
      "execution_count": null,
      "id": "157e089f",
      "metadata": {
        "id": "157e089f",
        "outputId": "ac1a570f-718a-4596-e612-2fc05cc5b234"
      },
      "outputs": [
        {
          "name": "stdout",
          "output_type": "stream",
          "text": [
            "Mean Accuracy: 0.876\n"
          ]
        }
      ],
      "source": [
        "cv_accuracy = modeltype(gnb,tf_l.todense(),labels)\n",
        "print(\"Mean Accuracy:\", cv_accuracy)\n",
        "lem_accuracies_tf.append(cv_accuracy*100)"
      ]
    },
    {
      "cell_type": "code",
      "execution_count": null,
      "id": "9fc6cdfd",
      "metadata": {
        "id": "9fc6cdfd"
      },
      "outputs": [],
      "source": []
    },
    {
      "cell_type": "code",
      "execution_count": null,
      "id": "1681448d",
      "metadata": {
        "id": "1681448d"
      },
      "outputs": [],
      "source": []
    },
    {
      "cell_type": "code",
      "execution_count": null,
      "id": "98c4b1df",
      "metadata": {
        "id": "98c4b1df",
        "outputId": "5fcd9562-2f72-449f-baa0-70d2a9a0cb79"
      },
      "outputs": [
        {
          "name": "stdout",
          "output_type": "stream",
          "text": [
            "Mean Accuracy: 0.843\n"
          ]
        }
      ],
      "source": [
        "import xgboost\n",
        "from xgboost import XGBClassifier\n",
        "model = XGBClassifier(use_label_encoder=False, eval_metric='mlogloss')\n",
        "cv_accuracy = modeltype(model,bow.todense(),labels)\n",
        "print(\"Mean Accuracy:\", cv_accuracy)\n",
        "stemmed_accuracies_bow.append(cv_accuracy*100)"
      ]
    },
    {
      "cell_type": "code",
      "execution_count": null,
      "id": "7712eb04",
      "metadata": {
        "id": "7712eb04",
        "outputId": "5a145d7d-63de-42a1-98a9-76dab626a1fe"
      },
      "outputs": [
        {
          "name": "stdout",
          "output_type": "stream",
          "text": [
            "Mean Accuracy: 0.844\n"
          ]
        }
      ],
      "source": [
        "cv_accuracy = modeltype(model,bow_l.todense(),labels)\n",
        "print(\"Mean Accuracy:\", cv_accuracy)\n",
        "lem_accuracies_bow.append(cv_accuracy*100)"
      ]
    },
    {
      "cell_type": "code",
      "execution_count": null,
      "id": "5b0ed83e",
      "metadata": {
        "id": "5b0ed83e",
        "outputId": "f31ed8ba-50ed-40cd-d63d-670a87f8abde"
      },
      "outputs": [
        {
          "name": "stdout",
          "output_type": "stream",
          "text": [
            "Mean Accuracy: 0.873\n",
            "CONFUSION MATRIX\n",
            "[[ 9  2  1  0  1]\n",
            " [ 1 24  1  0  2]\n",
            " [ 0  0 19  2  0]\n",
            " [ 0  0  0 21  0]\n",
            " [ 0  2  0  0 15]]\n",
            "CLASSIFICATION REPORT\n",
            "              precision    recall  f1-score   support\n",
            "\n",
            "           0       0.90      0.69      0.78        13\n",
            "           1       0.86      0.86      0.86        28\n",
            "           2       0.90      0.90      0.90        21\n",
            "           3       0.91      1.00      0.95        21\n",
            "           4       0.83      0.88      0.86        17\n",
            "\n",
            "    accuracy                           0.88       100\n",
            "   macro avg       0.88      0.87      0.87       100\n",
            "weighted avg       0.88      0.88      0.88       100\n",
            "\n"
          ]
        }
      ],
      "source": [
        "cv_accuracy,c,reports = modeltypefinal(model,tf.todense(),labels)#STEMMING, TF-IDF\n",
        "stemmed_accuracies_tf.append(cv_accuracy*100)\n",
        "print(\"Mean Accuracy:\", cv_accuracy)\n",
        "print(\"CONFUSION MATRIX\")\n",
        "print(c[0]) #printing only the first fold by canging the number it can be shown for every fold\n",
        "print(\"CLASSIFICATION REPORT\")\n",
        "print(reports[0]) #printing only the first fold by canging the number it can be shown for every fold"
      ]
    },
    {
      "cell_type": "code",
      "execution_count": null,
      "id": "b6cc9860",
      "metadata": {
        "id": "b6cc9860",
        "outputId": "fd3caee6-fc31-49f1-abe4-365bc5fd8fff"
      },
      "outputs": [
        {
          "name": "stdout",
          "output_type": "stream",
          "text": [
            "Mean Accuracy: 0.869\n"
          ]
        }
      ],
      "source": [
        "cv_accuracy = modeltype(model,tf_l.todense(),labels)\n",
        "print(\"Mean Accuracy:\", cv_accuracy)\n",
        "lem_accuracies_tf.append(cv_accuracy*100)"
      ]
    },
    {
      "cell_type": "code",
      "execution_count": null,
      "id": "4241d8e5",
      "metadata": {
        "id": "4241d8e5"
      },
      "outputs": [],
      "source": []
    },
    {
      "cell_type": "markdown",
      "id": "fa899ad2",
      "metadata": {
        "id": "fa899ad2"
      },
      "source": [
        "# CHAMPION MODEL"
      ]
    },
    {
      "cell_type": "code",
      "execution_count": null,
      "id": "67ac1965",
      "metadata": {
        "id": "67ac1965",
        "outputId": "8510a3fd-269e-49f2-8154-da2917816a25"
      },
      "outputs": [
        {
          "name": "stdout",
          "output_type": "stream",
          "text": [
            "Mean Accuracy: 0.912\n"
          ]
        }
      ],
      "source": [
        "cv_accuracy = modeltype(le,tf,labels) #OUR BEST MODEL - TF-IDF WITH LOGISTIC REGRESSION AND STEMMING\n",
        "print(\"Mean Accuracy:\", cv_accuracy)"
      ]
    },
    {
      "cell_type": "code",
      "execution_count": null,
      "id": "b9998c33",
      "metadata": {
        "id": "b9998c33",
        "outputId": "370a0c72-b784-45c8-f670-19b6760243f6"
      },
      "outputs": [
        {
          "name": "stdout",
          "output_type": "stream",
          "text": [
            "Mean Accuracy: 0.9149999999999998\n",
            "CONFUSION MATRIX\n",
            "[[11  1  0  0  1]\n",
            " [ 3 25  0  0  0]\n",
            " [ 0  0 21  0  0]\n",
            " [ 0  0  0 21  0]\n",
            " [ 1  1  0  1 14]]\n",
            "CLASSIFICATION REPORT\n",
            "              precision    recall  f1-score   support\n",
            "\n",
            "           0       0.73      0.85      0.79        13\n",
            "           1       0.93      0.89      0.91        28\n",
            "           2       1.00      1.00      1.00        21\n",
            "           3       0.95      1.00      0.98        21\n",
            "           4       0.93      0.82      0.87        17\n",
            "\n",
            "    accuracy                           0.92       100\n",
            "   macro avg       0.91      0.91      0.91       100\n",
            "weighted avg       0.92      0.92      0.92       100\n",
            "\n"
          ]
        }
      ],
      "source": [
        "cv_accuracy,c,reports = modeltypefinal(le,tf,labels)#STEMMING, TF-IDF with LOGISTIC REGRESSION IS OUR BEST MODEL\n",
        "print(\"Mean Accuracy:\", cv_accuracy)\n",
        "print(\"CONFUSION MATRIX\")\n",
        "print(c[0]) #printing only the first fold by canging the number it can be shown for every fold\n",
        "print(\"CLASSIFICATION REPORT\")\n",
        "print(reports[0]) #printing only the first fold by canging the number it can be shown for every fold"
      ]
    },
    {
      "cell_type": "code",
      "execution_count": null,
      "id": "3d9992ba",
      "metadata": {
        "scrolled": true,
        "id": "3d9992ba",
        "outputId": "52b59b65-1762-45b0-da3b-71477fdaa48f"
      },
      "outputs": [
        {
          "data": {
            "image/png": "[encoded data removed]",
            "text/plain": [
              "<Figure size 432x288 with 1 Axes>"
            ]
          },
          "metadata": {
            "needs_background": "light"
          },
          "output_type": "display_data"
        }
      ],
      "source": [
        "#visualizing the accuracies of the classifier alogirthms with stemmed data with bow\n",
        "\n",
        "x = ['Logistic Regression', 'Decision-Tree', 'Random Forrest', 'SVM', 'Naives-Bayes', 'XGBoost']\n",
        "y = stemmed_accuracies_bow\n",
        "\n",
        "x = [textwrap.fill(label, 10) for label in x]\n",
        "y = [math.ceil(accuracy) for accuracy in stemmed_accuracies_bow]\n",
        "\n",
        "sns.barplot(x, y)\n",
        "for i, v in enumerate(y): plt.text(i, v + 0.1, str(v))\n",
        "plt.show()"
      ]
    },
    {
      "cell_type": "code",
      "execution_count": null,
      "id": "17d578bf",
      "metadata": {
        "id": "17d578bf",
        "outputId": "b1dc184e-8ff1-4cf1-fd02-b6e5d4b85a14"
      },
      "outputs": [
        {
          "data": {
            "image/png": "[encoded data removed]",
            "text/plain": [
              "<Figure size 432x288 with 1 Axes>"
            ]
          },
          "metadata": {
            "needs_background": "light"
          },
          "output_type": "display_data"
        }
      ],
      "source": [
        "#visualizing the accuracies of the classifier alogirthms with stemmed data with tf\n",
        "\n",
        "y = stemmed_accuracies_tf\n",
        "\n",
        "y = [math.ceil(accuracy) for accuracy in stemmed_accuracies_tf]\n",
        "\n",
        "sns.barplot(x, y)\n",
        "for i, v in enumerate(y): plt.text(i, v + 0.1, str(v))\n",
        "plt.show()"
      ]
    },
    {
      "cell_type": "code",
      "execution_count": null,
      "id": "99a488cc",
      "metadata": {
        "id": "99a488cc",
        "outputId": "6be50175-b00f-4cb3-a836-4e470f3666b8"
      },
      "outputs": [
        {
          "data": {
            "image/png": "[encoded data removed]",
            "text/plain": [
              "<Figure size 432x288 with 1 Axes>"
            ]
          },
          "metadata": {
            "needs_background": "light"
          },
          "output_type": "display_data"
        }
      ],
      "source": [
        "#visualizing the accuracies of the classifier alogirthms with lematized data with bow\n",
        "\n",
        "y = lem_accuracies_bow\n",
        "\n",
        "y = [math.ceil(accuracy) for accuracy in lem_accuracies_bow]\n",
        "\n",
        "sns.barplot(x, y)\n",
        "for i, v in enumerate(y): plt.text(i, v + 0.1, str(v))\n",
        "plt.show()"
      ]
    },
    {
      "cell_type": "code",
      "execution_count": null,
      "id": "05c98ac2",
      "metadata": {
        "id": "05c98ac2",
        "outputId": "c05948c2-af1b-4221-a188-b92ea1dc524b"
      },
      "outputs": [
        {
          "data": {
            "image/png": "[encoded data removed]",
            "text/plain": [
              "<Figure size 432x288 with 1 Axes>"
            ]
          },
          "metadata": {
            "needs_background": "light"
          },
          "output_type": "display_data"
        }
      ],
      "source": [
        "#visualizing the accuracies of the classifier alogirthms with lematized data with tf\n",
        "\n",
        "y = lem_accuracies_tf\n",
        "\n",
        "y = [math.ceil(accuracy) for accuracy in lem_accuracies_tf]\n",
        "\n",
        "sns.barplot(x, y)\n",
        "for i, v in enumerate(y): plt.text(i, v + 0.1, str(v))\n",
        "plt.show()"
      ]
    },
    {
      "cell_type": "code",
      "execution_count": null,
      "id": "342fc529",
      "metadata": {
        "id": "342fc529",
        "outputId": "9c2973ad-3630-4562-c07b-2932b5c1df4f"
      },
      "outputs": [
        {
          "data": {
            "text/plain": [
              "<AxesSubplot:>"
            ]
          },
          "execution_count": 1165,
          "metadata": {},
          "output_type": "execute_result"
        },
        {
          "data": {
            "image/png": "[encoded data removed]",
            "text/plain": [
              "<Figure size 432x288 with 2 Axes>"
            ]
          },
          "metadata": {
            "needs_background": "light"
          },
          "output_type": "display_data"
        }
      ],
      "source": [
        "sns.heatmap(c[0], annot=True, cmap='Blues')"
      ]
    },
    {
      "cell_type": "code",
      "execution_count": null,
      "id": "174103c1",
      "metadata": {
        "id": "174103c1"
      },
      "outputs": [],
      "source": []
    },
    {
      "cell_type": "code",
      "execution_count": null,
      "id": "45fe5050",
      "metadata": {
        "id": "45fe5050"
      },
      "outputs": [],
      "source": []
    },
    {
      "cell_type": "code",
      "execution_count": null,
      "id": "18a7d8a9",
      "metadata": {
        "id": "18a7d8a9"
      },
      "outputs": [],
      "source": []
    },
    {
      "cell_type": "code",
      "execution_count": null,
      "id": "7c1d7ace",
      "metadata": {
        "id": "7c1d7ace"
      },
      "outputs": [],
      "source": []
    },
    {
      "cell_type": "code",
      "execution_count": null,
      "id": "80140907",
      "metadata": {
        "id": "80140907"
      },
      "outputs": [],
      "source": []
    }
  ],
  "metadata": {
    "kernelspec": {
      "display_name": "Python 3 (ipykernel)",
      "language": "python",
      "name": "python3"
    },
    "language_info": {
      "codemirror_mode": {
        "name": "ipython",
        "version": 3
      },
      "file_extension": ".py",
      "mimetype": "text/x-python",
      "name": "python",
      "nbconvert_exporter": "python",
      "pygments_lexer": "ipython3",
      "version": "3.9.12"
    },
    "colab": {
      "provenance": []
    }
  },
  "nbformat": 4,
  "nbformat_minor": 5
}